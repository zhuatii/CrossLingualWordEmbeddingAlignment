{
 "cells": [
  {
   "cell_type": "code",
   "execution_count": 90,
   "id": "d3fed8cf-1447-49f2-8c5d-05facb20f5c8",
   "metadata": {
    "scrolled": true
   },
   "outputs": [
    {
     "name": "stdout",
     "output_type": "stream",
     "text": [
      "pipreqs  --force ./\n"
     ]
    },
    {
     "name": "stderr",
     "output_type": "stream",
     "text": [
      "INFO: Not scanning for jupyter notebooks.\n",
      "WARNING: Import named \"pandas\" not found locally. Trying to resolve it at the PyPI server.\n",
      "WARNING: Import named \"pandas\" was resolved to \"pandas:2.2.3\" package (https://pypi.org/project/pandas/).\n",
      "Please, verify manually the final list of requirements.txt to avoid possible dependency confusions.\n",
      "INFO: Successfully saved requirements file in ./requirements.txt\n"
     ]
    }
   ],
   "source": [
    "### To maintain the packages and the the used versions\n",
    "# !pip install pipreqsnb\n",
    "!pipreqsnb --force ./"
   ]
  },
  {
   "cell_type": "code",
   "execution_count": 7,
   "id": "6ff4e0fe-b6ba-4792-b09a-8a54a388d224",
   "metadata": {},
   "outputs": [
    {
     "name": "stdout",
     "output_type": "stream",
     "text": [
      "Note: you may need to restart the kernel to use updated packages.\n"
     ]
    }
   ],
   "source": [
    "# pip install -r requirements.txt"
   ]
  },
  {
   "cell_type": "markdown",
   "id": "43e90aa0-cbc5-4907-94a9-d4575ba31808",
   "metadata": {},
   "source": [
    "# Loading Data\n",
    "\n",
    "English to Hindi translation pairs from the MUSE dataset by Meta."
   ]
  },
  {
   "cell_type": "code",
   "execution_count": 26,
   "id": "226b99af-a11c-4100-bd12-a8b2041968c4",
   "metadata": {},
   "outputs": [],
   "source": [
    "import pandas as pd"
   ]
  },
  {
   "cell_type": "code",
   "execution_count": 18,
   "id": "3e5d270e-ce6f-44eb-a3f9-dfa45c8bdeef",
   "metadata": {},
   "outputs": [],
   "source": [
    "train_path = \"data/train.txt\"\n",
    "test_path = \"data/test.txt\""
   ]
  },
  {
   "cell_type": "markdown",
   "id": "8c50bee5-c3af-4e59-84c4-ef1d69182dae",
   "metadata": {},
   "source": [
    "We are loading the text pairs into a pandas dataframe for easy access. Reading with Pandas was chosen over directly loading from the file as the system was unable to recognize the Devanagri script if loaded directly and was throwing errors. The dataframes are then converted into a dictionaries,\n",
    "\n",
    "Separate train and test files were downloaded from the github repository and loaded accordingly. The train dataset contains 8704 text pairs and the test set has 2032 pairs. Sample of the dataset is also shown. Each entity of the dataframe is a string. The dataframes are then converted to dictionaries for ease of access."
   ]
  },
  {
   "cell_type": "code",
   "execution_count": 44,
   "id": "8db561b2-03c1-470b-a62c-b2bb87a0ffbe",
   "metadata": {},
   "outputs": [
    {
     "name": "stdout",
     "output_type": "stream",
     "text": [
      "<class 'pandas.core.frame.DataFrame'>\n",
      "RangeIndex: 8704 entries, 0 to 8703\n",
      "Data columns (total 2 columns):\n",
      " #   Column  Non-Null Count  Dtype \n",
      "---  ------  --------------  ----- \n",
      " 0   0       8704 non-null   object\n",
      " 1   1       8704 non-null   object\n",
      "dtypes: object(2)\n",
      "memory usage: 136.1+ KB\n"
     ]
    }
   ],
   "source": [
    "train_df = pd.read_csv(train_path, sep = '\\t', header = None)\n",
    "train_df.info()"
   ]
  },
  {
   "cell_type": "code",
   "execution_count": 46,
   "id": "8aa21063-4cc1-4db0-bc1e-a1c326c91457",
   "metadata": {},
   "outputs": [
    {
     "name": "stdout",
     "output_type": "stream",
     "text": [
      "<class 'pandas.core.frame.DataFrame'>\n",
      "RangeIndex: 2032 entries, 0 to 2031\n",
      "Data columns (total 2 columns):\n",
      " #   Column  Non-Null Count  Dtype \n",
      "---  ------  --------------  ----- \n",
      " 0   0       2032 non-null   object\n",
      " 1   1       2032 non-null   object\n",
      "dtypes: object(2)\n",
      "memory usage: 31.9+ KB\n"
     ]
    }
   ],
   "source": [
    "test_df = pd.read_csv(test_path, sep = '\\t', header = None)\n",
    "test_df.info()"
   ]
  },
  {
   "cell_type": "code",
   "execution_count": 54,
   "id": "9f3ef739-26c1-465e-85a7-3404565d6bab",
   "metadata": {},
   "outputs": [
    {
     "data": {
      "text/html": [
       "<div>\n",
       "<style scoped>\n",
       "    .dataframe tbody tr th:only-of-type {\n",
       "        vertical-align: middle;\n",
       "    }\n",
       "\n",
       "    .dataframe tbody tr th {\n",
       "        vertical-align: top;\n",
       "    }\n",
       "\n",
       "    .dataframe thead th {\n",
       "        text-align: right;\n",
       "    }\n",
       "</style>\n",
       "<table border=\"1\" class=\"dataframe\">\n",
       "  <thead>\n",
       "    <tr style=\"text-align: right;\">\n",
       "      <th></th>\n",
       "      <th>0</th>\n",
       "      <th>1</th>\n",
       "    </tr>\n",
       "  </thead>\n",
       "  <tbody>\n",
       "    <tr>\n",
       "      <th>0</th>\n",
       "      <td>and</td>\n",
       "      <td>और</td>\n",
       "    </tr>\n",
       "    <tr>\n",
       "      <th>1</th>\n",
       "      <td>was</td>\n",
       "      <td>था</td>\n",
       "    </tr>\n",
       "    <tr>\n",
       "      <th>2</th>\n",
       "      <td>was</td>\n",
       "      <td>थी</td>\n",
       "    </tr>\n",
       "    <tr>\n",
       "      <th>3</th>\n",
       "      <td>for</td>\n",
       "      <td>लिये</td>\n",
       "    </tr>\n",
       "    <tr>\n",
       "      <th>4</th>\n",
       "      <td>that</td>\n",
       "      <td>उस</td>\n",
       "    </tr>\n",
       "  </tbody>\n",
       "</table>\n",
       "</div>"
      ],
      "text/plain": [
       "      0     1\n",
       "0   and    और\n",
       "1   was    था\n",
       "2   was    थी\n",
       "3   for  लिये\n",
       "4  that    उस"
      ]
     },
     "execution_count": 54,
     "metadata": {},
     "output_type": "execute_result"
    }
   ],
   "source": [
    "train_df.head()"
   ]
  },
  {
   "cell_type": "code",
   "execution_count": 96,
   "id": "7bd54ba5-6465-4402-9679-006d5f9f8771",
   "metadata": {},
   "outputs": [],
   "source": [
    "trainPairs = dict(train_df.values)\n",
    "testPairs = dict(test_df.values)"
   ]
  },
  {
   "cell_type": "markdown",
   "id": "a3dfb29c-10cf-44ff-aacf-e7beb0074c8a",
   "metadata": {},
   "source": [
    "# Loading pre-trained Fast-text monolingual embeddings"
   ]
  },
  {
   "cell_type": "code",
   "execution_count": 9,
   "id": "9cb23ad0-c069-4101-aa9b-b30790558585",
   "metadata": {
    "scrolled": true
   },
   "outputs": [],
   "source": [
    "# !pip install fasttext\n",
    "import fasttext\n",
    "import fasttext.util"
   ]
  },
  {
   "cell_type": "code",
   "execution_count": 13,
   "id": "38d4c536-3914-4f17-bf22-441eb9e22094",
   "metadata": {},
   "outputs": [
    {
     "ename": "ValueError",
     "evalue": "cc.en.300.bin cannot be opened for loading!",
     "output_type": "error",
     "traceback": [
      "\u001b[1;31m---------------------------------------------------------------------------\u001b[0m",
      "\u001b[1;31mValueError\u001b[0m                                Traceback (most recent call last)",
      "Cell \u001b[1;32mIn[13], line 2\u001b[0m\n\u001b[0;32m      1\u001b[0m \u001b[38;5;66;03m# hindi_embed = fasttext.load_model('wiki.hi.bin')\u001b[39;00m\n\u001b[1;32m----> 2\u001b[0m english_embed \u001b[38;5;241m=\u001b[39m fasttext\u001b[38;5;241m.\u001b[39mload_model(\u001b[38;5;124m'\u001b[39m\u001b[38;5;124mcc.en.300.bin\u001b[39m\u001b[38;5;124m'\u001b[39m)\n",
      "File \u001b[1;32m~\\anaconda3\\Lib\\site-packages\\fasttext\\FastText.py:436\u001b[0m, in \u001b[0;36mload_model\u001b[1;34m(path)\u001b[0m\n\u001b[0;32m    434\u001b[0m \u001b[38;5;28;01mdef\u001b[39;00m \u001b[38;5;21mload_model\u001b[39m(path):\n\u001b[0;32m    435\u001b[0m \u001b[38;5;250m    \u001b[39m\u001b[38;5;124;03m\"\"\"Load a model given a filepath and return a model object.\"\"\"\u001b[39;00m\n\u001b[1;32m--> 436\u001b[0m     \u001b[38;5;28;01mreturn\u001b[39;00m _FastText(model_path\u001b[38;5;241m=\u001b[39mpath)\n",
      "File \u001b[1;32m~\\anaconda3\\Lib\\site-packages\\fasttext\\FastText.py:94\u001b[0m, in \u001b[0;36m_FastText.__init__\u001b[1;34m(self, model_path, args)\u001b[0m\n\u001b[0;32m     92\u001b[0m \u001b[38;5;28mself\u001b[39m\u001b[38;5;241m.\u001b[39mf \u001b[38;5;241m=\u001b[39m fasttext\u001b[38;5;241m.\u001b[39mfasttext()\n\u001b[0;32m     93\u001b[0m \u001b[38;5;28;01mif\u001b[39;00m model_path \u001b[38;5;129;01mis\u001b[39;00m \u001b[38;5;129;01mnot\u001b[39;00m \u001b[38;5;28;01mNone\u001b[39;00m:\n\u001b[1;32m---> 94\u001b[0m     \u001b[38;5;28mself\u001b[39m\u001b[38;5;241m.\u001b[39mf\u001b[38;5;241m.\u001b[39mloadModel(model_path)\n\u001b[0;32m     95\u001b[0m \u001b[38;5;28mself\u001b[39m\u001b[38;5;241m.\u001b[39m_words \u001b[38;5;241m=\u001b[39m \u001b[38;5;28;01mNone\u001b[39;00m\n\u001b[0;32m     96\u001b[0m \u001b[38;5;28mself\u001b[39m\u001b[38;5;241m.\u001b[39m_labels \u001b[38;5;241m=\u001b[39m \u001b[38;5;28;01mNone\u001b[39;00m\n",
      "\u001b[1;31mValueError\u001b[0m: cc.en.300.bin cannot be opened for loading!"
     ]
    }
   ],
   "source": [
    "# hindi_embed = fasttext.load_model('wiki.hi.bin')\n",
    "english_embed = fasttext.load_model('cc.en.300.bin')"
   ]
  }
 ],
 "metadata": {
  "kernelspec": {
   "display_name": "Python 3 (ipykernel)",
   "language": "python",
   "name": "python3"
  },
  "language_info": {
   "codemirror_mode": {
    "name": "ipython",
    "version": 3
   },
   "file_extension": ".py",
   "mimetype": "text/x-python",
   "name": "python",
   "nbconvert_exporter": "python",
   "pygments_lexer": "ipython3",
   "version": "3.12.3"
  }
 },
 "nbformat": 4,
 "nbformat_minor": 5
}
