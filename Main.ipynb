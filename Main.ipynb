{
 "cells": [
  {
   "cell_type": "code",
   "execution_count": 3,
   "id": "f97b21bc-ca88-4e1e-a393-0d9725678e8b",
   "metadata": {
    "scrolled": true
   },
   "outputs": [
    {
     "name": "stderr",
     "output_type": "stream",
     "text": [
      "Traceback (most recent call last):\n",
      "  File \"<frozen runpy>\", line 198, in _run_module_as_main\n",
      "  File \"<frozen runpy>\", line 88, in _run_code\n",
      "  File \"C:\\Users\\bswat\\anaconda3\\Scripts\\pipreqsnb.exe\\__main__.py\", line 7, in <module>\n",
      "  File \"C:\\Users\\bswat\\anaconda3\\Lib\\site-packages\\pipreqsnb\\pipreqsnb.py\", line 120, in main\n",
      "    nb = json.load(open(nb_file, 'r', **open_file_args))\n",
      "         ^^^^^^^^^^^^^^^^^^^^^^^^^^^^^^^^^^^^^^^^^^^^^^^\n",
      "  File \"C:\\Users\\bswat\\anaconda3\\Lib\\json\\__init__.py\", line 293, in load\n",
      "    return loads(fp.read(),\n",
      "                 ^^^^^^^^^\n",
      "  File \"C:\\Users\\bswat\\anaconda3\\Lib\\encodings\\cp1252.py\", line 23, in decode\n",
      "    return codecs.charmap_decode(input,self.errors,decoding_table)[0]\n",
      "           ^^^^^^^^^^^^^^^^^^^^^^^^^^^^^^^^^^^^^^^^^^^^^^^^^^^^^^^\n",
      "UnicodeDecodeError: 'charmap' codec can't decode byte 0x8d in position 20887: character maps to <undefined>\n"
     ]
    }
   ],
   "source": [
    "!pipreqsnb --force ./"
   ]
  },
  {
   "cell_type": "code",
   "execution_count": 7,
   "id": "6ff4e0fe-b6ba-4792-b09a-8a54a388d224",
   "metadata": {},
   "outputs": [
    {
     "name": "stdout",
     "output_type": "stream",
     "text": [
      "Note: you may need to restart the kernel to use updated packages.\n"
     ]
    }
   ],
   "source": [
    "# pip install -r requirements.txt"
   ]
  },
  {
   "cell_type": "code",
   "execution_count": 283,
   "id": "226b99af-a11c-4100-bd12-a8b2041968c4",
   "metadata": {},
   "outputs": [],
   "source": [
    "import pandas as pd\n",
    "import numpy as np\n",
    "import joblib\n",
    "import fasttext\n",
    "import fasttext.util\n",
    "from scipy.linalg import orthogonal_procrustes\n",
    "from scipy.linalg import svd\n",
    "from sklearn.metrics.pairwise import cosine_similarity\n",
    "import matplotlib.pyplot as plt"
   ]
  },
  {
   "cell_type": "markdown",
   "id": "43e90aa0-cbc5-4907-94a9-d4575ba31808",
   "metadata": {},
   "source": [
    "# Data Preparation\n",
    "\n",
    "## Loading data : English to Hindi translation pairs from the MUSE dataset by Meta."
   ]
  },
  {
   "cell_type": "code",
   "execution_count": 2,
   "id": "3e5d270e-ce6f-44eb-a3f9-dfa45c8bdeef",
   "metadata": {},
   "outputs": [],
   "source": [
    "train_path = \"data/train.txt\"\n",
    "test_path = \"data/test.txt\"\n",
    "data_path = \"data/en-hi.txt\""
   ]
  },
  {
   "cell_type": "markdown",
   "id": "8c50bee5-c3af-4e59-84c4-ef1d69182dae",
   "metadata": {},
   "source": [
    "We are loading the text pairs into a pandas dataframe for easy access. Reading with Pandas was chosen over directly loading from the file as the system could not recognise the Devanagri script if loaded directly and was throwing errors. \n",
    "\n",
    "<!-- Separate train and test files were downloaded from the github repository and loaded accordingly. The train dataset contains 8704 text pairs and the test set has 2032 pairs. Sample of the dataset is also shown. Each entity of the dataframe is a string. The dataframes are then converted to dictionaries for ease of access. -->\n",
    "\n",
    "The entire dataset contains 38216 pairs of english-hindi translations. 80% of the data is to be used for training and the rest 20% for testing."
   ]
  },
  {
   "cell_type": "code",
   "execution_count": 5,
   "id": "33b1dee2-7221-4680-b90e-10f4cb1e8415",
   "metadata": {},
   "outputs": [
    {
     "name": "stdout",
     "output_type": "stream",
     "text": [
      "<class 'pandas.core.frame.DataFrame'>\n",
      "Index: 38216 entries, 0 to 38220\n",
      "Data columns (total 2 columns):\n",
      " #   Column  Non-Null Count  Dtype \n",
      "---  ------  --------------  ----- \n",
      " 0   0       38216 non-null  object\n",
      " 1   1       38216 non-null  object\n",
      "dtypes: object(2)\n",
      "memory usage: 895.7+ KB\n"
     ]
    }
   ],
   "source": [
    "data_df = pd.read_csv(data_path, sep = '\\t', header = None)\n",
    "data_df = data_df.dropna()\n",
    "data_df.info()"
   ]
  },
  {
   "cell_type": "code",
   "execution_count": 7,
   "id": "ee8231df-cac8-42e9-809d-66583faf7881",
   "metadata": {},
   "outputs": [
    {
     "name": "stdout",
     "output_type": "stream",
     "text": [
      "<class 'pandas.core.frame.DataFrame'>\n",
      "Index: 30568 entries, 0 to 30572\n",
      "Data columns (total 2 columns):\n",
      " #   Column  Non-Null Count  Dtype \n",
      "---  ------  --------------  ----- \n",
      " 0   0       30568 non-null  object\n",
      " 1   1       30568 non-null  object\n",
      "dtypes: object(2)\n",
      "memory usage: 716.4+ KB\n",
      "Train Data Info None\n",
      "<class 'pandas.core.frame.DataFrame'>\n",
      "Index: 7648 entries, 30573 to 38220\n",
      "Data columns (total 2 columns):\n",
      " #   Column  Non-Null Count  Dtype \n",
      "---  ------  --------------  ----- \n",
      " 0   0       7648 non-null   object\n",
      " 1   1       7648 non-null   object\n",
      "dtypes: object(2)\n",
      "memory usage: 179.2+ KB\n",
      "Test Data Info None\n"
     ]
    }
   ],
   "source": [
    "train_df = data_df.loc[:len(data_df)*0.8]\n",
    "test_df = data_df.loc[len(data_df)*0.8:]\n",
    "\n",
    "print(\"Train Data Info\", train_df.info())\n",
    "print(\"Test Data Info\", test_df.info())"
   ]
  },
  {
   "cell_type": "code",
   "execution_count": 553,
   "id": "8db561b2-03c1-470b-a62c-b2bb87a0ffbe",
   "metadata": {},
   "outputs": [],
   "source": [
    "# train_df = pd.read_csv(train_path, sep = '\\t', header = None)\n",
    "# print(train_df.info())\n",
    "\n",
    "# test_df = pd.read_csv(test_path, sep = '\\t', header = None)\n",
    "# print(test_df.info())"
   ]
  },
  {
   "cell_type": "code",
   "execution_count": 9,
   "id": "9f3ef739-26c1-465e-85a7-3404565d6bab",
   "metadata": {},
   "outputs": [
    {
     "data": {
      "text/html": [
       "<div>\n",
       "<style scoped>\n",
       "    .dataframe tbody tr th:only-of-type {\n",
       "        vertical-align: middle;\n",
       "    }\n",
       "\n",
       "    .dataframe tbody tr th {\n",
       "        vertical-align: top;\n",
       "    }\n",
       "\n",
       "    .dataframe thead th {\n",
       "        text-align: right;\n",
       "    }\n",
       "</style>\n",
       "<table border=\"1\" class=\"dataframe\">\n",
       "  <thead>\n",
       "    <tr style=\"text-align: right;\">\n",
       "      <th></th>\n",
       "      <th>0</th>\n",
       "      <th>1</th>\n",
       "    </tr>\n",
       "  </thead>\n",
       "  <tbody>\n",
       "    <tr>\n",
       "      <th>0</th>\n",
       "      <td>and</td>\n",
       "      <td>और</td>\n",
       "    </tr>\n",
       "    <tr>\n",
       "      <th>1</th>\n",
       "      <td>was</td>\n",
       "      <td>था</td>\n",
       "    </tr>\n",
       "    <tr>\n",
       "      <th>2</th>\n",
       "      <td>was</td>\n",
       "      <td>थी</td>\n",
       "    </tr>\n",
       "    <tr>\n",
       "      <th>3</th>\n",
       "      <td>for</td>\n",
       "      <td>लिये</td>\n",
       "    </tr>\n",
       "    <tr>\n",
       "      <th>4</th>\n",
       "      <td>that</td>\n",
       "      <td>उस</td>\n",
       "    </tr>\n",
       "  </tbody>\n",
       "</table>\n",
       "</div>"
      ],
      "text/plain": [
       "      0     1\n",
       "0   and    और\n",
       "1   was    था\n",
       "2   was    थी\n",
       "3   for  लिये\n",
       "4  that    उस"
      ]
     },
     "execution_count": 9,
     "metadata": {},
     "output_type": "execute_result"
    }
   ],
   "source": [
    "train_df.head()"
   ]
  },
  {
   "cell_type": "markdown",
   "id": "a3dfb29c-10cf-44ff-aacf-e7beb0074c8a",
   "metadata": {},
   "source": [
    "## Loading pre-trained Fasttext monolingual embeddings\n",
    "\n",
    "To get the word vectors for different words in both Hindi and English, the embedding models are downloaded from [here](https://fasttext.cc/docs/en/pretrained-vectors.html). The word vectors for all the words from the dataset, both the train and test sets, are generated and stored for future references in two separate lists."
   ]
  },
  {
   "cell_type": "code",
   "execution_count": 11,
   "id": "38d4c536-3914-4f17-bf22-441eb9e22094",
   "metadata": {},
   "outputs": [],
   "source": [
    "### These are not being passed to the models and being treated as global variables\n",
    "\n",
    "hindi_embed = fasttext.load_model('Embeddings/wiki.hi.bin')     ### Embedding model for Hindi words\n",
    "english_embed = fasttext.load_model('Embeddings/wiki.en.bin')   ### Embedding model for English words"
   ]
  },
  {
   "cell_type": "code",
   "execution_count": 12,
   "id": "32475b4a-d375-4450-8e5c-b332cde72bfe",
   "metadata": {},
   "outputs": [],
   "source": [
    "english_words = list(train_df[0]) + list(test_df[0])            ### All the English words in corpus\n",
    "hindi_words = list(train_df[1]) + list(test_df[1])              ### All the Hindi words in the corpus"
   ]
  },
  {
   "cell_type": "code",
   "execution_count": 17,
   "id": "7a7eedbe-b808-4ea6-a479-443db209aa7f",
   "metadata": {},
   "outputs": [
    {
     "name": "stdout",
     "output_type": "stream",
     "text": [
      "38216 38216\n"
     ]
    }
   ],
   "source": [
    "print(len(english_words), len(hindi_words))"
   ]
  },
  {
   "cell_type": "code",
   "execution_count": 48,
   "id": "fe958ea7-849e-493a-897a-dd4245cedb67",
   "metadata": {},
   "outputs": [],
   "source": [
    "### Use of dictionaries is discarded to preserve the duplicate entries\n",
    "# english_vectors = {word : english_embed.get_word_vector(word) for word in english_words}\n",
    "# hindi_vectors = {word: hindi_embed.get_word_vector(word) for word in hindi_words}    "
   ]
  },
  {
   "cell_type": "code",
   "execution_count": 13,
   "id": "edff711f-51d2-425f-9df4-b6592db5c2bd",
   "metadata": {},
   "outputs": [],
   "source": [
    "### To load the word vectors. To create the embedding word vectors from scratch, run the commented out lines in this cell\n",
    "\n",
    "english_vectors = joblib.load(\"vars/english_vectors\")\n",
    "hindi_vectors = joblib.load(\"vars/hindi_vectors\")\n",
    "\n",
    "# english_vectors = [english_embed.get_word_vector(word) for word in english_words]\n",
    "# hindi_vectors = [hindi_embed.get_word_vector(word) for word in hindi_words]"
   ]
  },
  {
   "cell_type": "code",
   "execution_count": 46,
   "id": "7e9a119b-e315-4579-a81b-03e5213fe96d",
   "metadata": {},
   "outputs": [],
   "source": [
    "### To store the list of word vectors\n",
    "\n",
    "# joblib.dump(english_vectors, \"vars/english_vectors\")\n",
    "# joblib.dump(hindi_vectors, \"vars/hindi_vectors\")"
   ]
  },
  {
   "cell_type": "code",
   "execution_count": 37,
   "id": "21755158-3970-4fc4-b46f-2a2706cd6a6b",
   "metadata": {},
   "outputs": [
    {
     "data": {
      "text/plain": [
       "300"
      ]
     },
     "execution_count": 37,
     "metadata": {},
     "output_type": "execute_result"
    }
   ],
   "source": [
    "### Dimension of embeddings\n",
    "\n",
    "dim = len(list(english_vectors)[0])\n",
    "dim"
   ]
  },
  {
   "cell_type": "markdown",
   "id": "745a9d07-1d4a-44d3-a204-2472b1e22cb5",
   "metadata": {},
   "source": [
    "# Embedding Alignment: Applying orthogonal Procrustes method\n",
    "\n",
    "For the calculation of the solution of the Procrustes alignment, the train set containing embedding word vectors is constructed into matrices of dimensions (*numSamples , dimension of embedding*), i.e. (8704, 300) for our case here.\n",
    "\n",
    "The Procrustes method utilises Singular Value Decomposition to compute the best transformation to align the source matrix to the target matrix. Once the solution **W** is computed, the transformation is applied to the embedding of an English word ($s_e$) to get a resulting transformed vector ($W \\cdot s_e$). According to [Conneau et al.](https://arxiv.org/pdf/1710.04087), the corresponding word from the resulting embedding is given by the Hindi word ($h$), whose embedding has the highest cosine similarity with the transformed source vector embedding.\n",
    "\n",
    "$$\r\n",
    "t = \\arg\\max_t \\cos(W \\cdot x_s, y_t)\r\n",
    "$$\r\n"
   ]
  },
  {
   "cell_type": "code",
   "execution_count": 15,
   "id": "0108a9ef-c34a-462b-8602-6fb52acf6ecd",
   "metadata": {},
   "outputs": [],
   "source": [
    "def createMatrices(n, english_vectors, hindi_vectors):\n",
    "    english_matrix = np.empty((0, dim))\n",
    "    hindi_matrix = np.empty((0, dim))\n",
    "    \n",
    "    for i in range(n):\n",
    "        english_matrix = np.vstack([english_matrix, english_vectors[i].reshape((1, 300))])\n",
    "        hindi_matrix = np.vstack([hindi_matrix, hindi_vectors[i].reshape((1, 300))])\n",
    "\n",
    "    return english_matrix, hindi_matrix"
   ]
  },
  {
   "cell_type": "code",
   "execution_count": 16,
   "id": "e7359467-d48c-418b-bc36-29acb63102d6",
   "metadata": {},
   "outputs": [],
   "source": [
    "### To save computation time, precomputed matrices are stored for ease of execution. To recompute the matrices, line commented below\n",
    "\n",
    "# english_matrix, hindi_matrix = createMatrices(len(train_data), english_vectors, hindi_vectors)\n",
    "\n",
    "english_matrix = joblib.load(\"vars/english_matrix\")\n",
    "hindi_matrix = joblib.load(\"vars/hindi_matrix\")"
   ]
  },
  {
   "cell_type": "code",
   "execution_count": 20,
   "id": "dc36f376-b545-4cdc-9d4f-1675284596a5",
   "metadata": {},
   "outputs": [],
   "source": [
    "### Code to store the variables\n",
    "\n",
    "# joblib.dump(english_matrix, \"vars/english_matrix\")\n",
    "# joblib.dump(hindi_matrix, \"vars/hindi_matrix\")"
   ]
  },
  {
   "cell_type": "code",
   "execution_count": 17,
   "id": "02b887cb-1607-4c33-8f7e-de5e8f692a2e",
   "metadata": {},
   "outputs": [
    {
     "data": {
      "text/plain": [
       "((30568, 300), (30568, 300))"
      ]
     },
     "execution_count": 17,
     "metadata": {},
     "output_type": "execute_result"
    }
   ],
   "source": [
    "english_matrix.shape, hindi_matrix.shape"
   ]
  },
  {
   "cell_type": "code",
   "execution_count": 18,
   "id": "24575e1a-baf3-469b-9701-670b53cbc26a",
   "metadata": {},
   "outputs": [],
   "source": [
    "# A = hindi_matrix @ (english_matrix.T)\n",
    "# U, s, V = svd(A, full_matrices=0)\n",
    "# R = U @ V.T\n",
    "# W = np.multiply((1 + 0.01), R) - np.multiply(0.01, R @ R.T) @ R\n",
    "\n",
    "#### The above is the exact implementation of the code from the paper. However due to the large sizes of the English and Hindi matrices, the SVD \n",
    "#### was not being performed\n",
    "\n",
    "W, A = orthogonal_procrustes(english_matrix, hindi_matrix)"
   ]
  },
  {
   "cell_type": "code",
   "execution_count": 19,
   "id": "3adb4d54-a733-42da-999f-c942abb53119",
   "metadata": {},
   "outputs": [
    {
     "data": {
      "text/plain": [
       "(300, 300)"
      ]
     },
     "execution_count": 19,
     "metadata": {},
     "output_type": "execute_result"
    }
   ],
   "source": [
    "W.shape"
   ]
  },
  {
   "cell_type": "markdown",
   "id": "09325ca3-bdb2-49d4-bb8a-c483314295fc",
   "metadata": {},
   "source": [
    "# Evaluation\n",
    "\n",
    "## Creating the store of transformed embeddings of the source word"
   ]
  },
  {
   "cell_type": "code",
   "execution_count": 30,
   "id": "8cd535a1-705d-46ca-9216-165e2573c668",
   "metadata": {},
   "outputs": [],
   "source": [
    "def transformSource(english_word, R):\n",
    "    english_vector = english_embed.get_word_vector(english_word)\n",
    "    return np.dot(english_vector, R)"
   ]
  },
  {
   "cell_type": "code",
   "execution_count": 32,
   "id": "05425b0c-a193-4169-a35f-19b3aed152de",
   "metadata": {},
   "outputs": [],
   "source": [
    "transformed_vectors = []\n",
    "\n",
    "for word in english_words:\n",
    "    transformed_vectors.append(transformSource(word, W))"
   ]
  },
  {
   "cell_type": "markdown",
   "id": "e73da382-869e-411d-8fca-48e41140c9bf",
   "metadata": {},
   "source": [
    "## Function for translating English words to Hindi\n",
    "\n",
    "The function takes in the English word to be translated, the transformation matrix from the Procrustes problem with orthogonality, the model which converts English words to their corresponding word vector and all the Hindi word vectors, to return the Hindi translation of the English word."
   ]
  },
  {
   "cell_type": "code",
   "execution_count": 104,
   "id": "9832dc66-14cf-4af0-9200-562b900fc6d3",
   "metadata": {},
   "outputs": [],
   "source": [
    "def translateWord(english_word, R, hindi_vectors):        \n",
    "    translation_vector = transformSource(english_word, R)\n",
    "    i = max(np.arange(0, len(hindi_vectors)-1), key=lambda i: np.dot(hindi_vectors[i], translation_vector))\n",
    "    \n",
    "    return hindi_words[i]"
   ]
  },
  {
   "cell_type": "code",
   "execution_count": 106,
   "id": "721ae753-fbf5-40d0-87e9-cc82b8d25d5b",
   "metadata": {},
   "outputs": [
    {
     "data": {
      "text/plain": [
       "'फ़रवरी'"
      ]
     },
     "execution_count": 106,
     "metadata": {},
     "output_type": "execute_result"
    }
   ],
   "source": [
    "translateWord('november', W, hindi_vectors) ### The translation is not very accurate"
   ]
  },
  {
   "cell_type": "code",
   "execution_count": 180,
   "id": "68c14f9c-56d0-4413-8b8d-9e87f12301fc",
   "metadata": {},
   "outputs": [],
   "source": [
    "def calAccuracy(df, W):\n",
    "    \n",
    "    hindi_translated = []\n",
    "    \n",
    "    for word in df[0]:\n",
    "        t = translateWord(word, W, hindi_vectors)\n",
    "        hindi_translated.append(t)\n",
    "        \n",
    "    trueHindi = list(df[1])\n",
    "    preds = []\n",
    "    \n",
    "    for i in range(len(trueHindi)):\n",
    "        if trueHindi[i] == hindi_translated[i]:\n",
    "            preds.append(1)\n",
    "        else:\n",
    "            preds.append(0)\n",
    "            \n",
    "    return (sum(preds)/len(preds))"
   ]
  },
  {
   "cell_type": "markdown",
   "id": "5688ecfe-73ca-481f-864a-ee1ca6cdbc51",
   "metadata": {},
   "source": [
    "## Accuracy calculation"
   ]
  },
  {
   "cell_type": "code",
   "execution_count": 594,
   "id": "8ffbc7b7-87a1-441b-8e49-86c05046ca60",
   "metadata": {},
   "outputs": [
    {
     "name": "stdout",
     "output_type": "stream",
     "text": [
      "The accuracy of translation by the model on the training set is 0.1273\n",
      "The accuracy of translation by the model on the test set is 0.0088\n"
     ]
    }
   ],
   "source": [
    "trainAcc = calAccuracy(train_df, W)\n",
    "testAcc = calAccuracy(test_df, W)\n",
    "\n",
    "print(\"The accuracy of translation by the model on the training set is {:.4f}\".format(trainAcc))\n",
    "print(\"The accuracy of translation by the model on the test set is {:.4f}\".format(testAcc))"
   ]
  },
  {
   "cell_type": "markdown",
   "id": "e8c319a1-5696-4710-9826-59dc978d47d2",
   "metadata": {},
   "source": [
    "## Precision@k\n",
    "\n",
    "Precsion@k metric counts the number of true predictions in the top 'k' predicted words as translations for the given word. We are interested in Precision@1 and Precision@5 metrics. Precision@1 could also be considered as accuracy as we are considering the top 1 prediction as the translation. The computation of Precision@5 is done below."
   ]
  },
  {
   "cell_type": "code",
   "execution_count": 108,
   "id": "fc895fd0-1daa-453a-9700-54f14629ed08",
   "metadata": {},
   "outputs": [],
   "source": [
    "def topTranslateWords(english_word, R, hindi_vectors, k):        \n",
    "\n",
    "    translation_vector = transformSource(english_word, R)\n",
    "    indices = sorted(np.arange(0, len(hindi_vectors)-1), key=lambda i: np.dot(hindi_vectors[i], translation_vector), reverse = True)[:k]\n",
    "    \n",
    "    return [hindi_words[i] for i in indices]"
   ]
  },
  {
   "cell_type": "code",
   "execution_count": 110,
   "id": "f9c6c852-ad4d-4478-aa02-4891ed19c479",
   "metadata": {},
   "outputs": [
    {
     "data": {
      "text/plain": [
       "['फ़रवरी', 'फ़रवरी', 'नवम्बर', 'नवम्बर', 'दिसम्बर']"
      ]
     },
     "execution_count": 110,
     "metadata": {},
     "output_type": "execute_result"
    }
   ],
   "source": [
    "topTranslateWords('november', W, hindi_vectors, 5)     #### the dataset is not perfect and has english words as hindi translations"
   ]
  },
  {
   "cell_type": "code",
   "execution_count": 178,
   "id": "e6844271-ff25-490e-a7ba-f79fd14c1dba",
   "metadata": {},
   "outputs": [],
   "source": [
    "def calPrecision(df, W, k):\n",
    "    topAns = []\n",
    "    \n",
    "    for word in df[0]:\n",
    "        t = topTranslateWords(word, W, english_embed, hindi_vectors, k)\n",
    "        topAns.append(t)\n",
    "        \n",
    "    trueHindi = list(df[1])\n",
    "    preds = []\n",
    "    \n",
    "    for i in range(len(trueHindi)):\n",
    "        if trueHindi[i] in topAns[i]:\n",
    "            preds.append(1)\n",
    "        else:\n",
    "            preds.append(0)\n",
    "            \n",
    "    return (sum(preds)/len(preds))"
   ]
  },
  {
   "cell_type": "code",
   "execution_count": 60,
   "id": "226fcb56-f572-4b3a-a0aa-054acb0a3036",
   "metadata": {},
   "outputs": [
    {
     "name": "stdout",
     "output_type": "stream",
     "text": [
      "The accuracy of translation by the model on the training set is 0.2575\n",
      "The accuracy of translation by the model on the test set is 0.0395\n"
     ]
    }
   ],
   "source": [
    "trainAcc = calPrecision(train_df, W, 5)\n",
    "testAcc = calPrecision(test_df,W, 5)\n",
    "\n",
    "print(\"The accuracy of translation by the model on the training set is {:.4f}\".format(trainAcc))\n",
    "print(\"The accuracy of translation by the model on the test set is {:.4f}\".format(testAcc))"
   ]
  },
  {
   "cell_type": "markdown",
   "id": "ec5f62ab-6f87-4d76-9711-04c3dd649c77",
   "metadata": {},
   "source": [
    "The precision@5 in translation is much better for previously seen words than the unseen words"
   ]
  },
  {
   "cell_type": "markdown",
   "id": "dbd0781d-393c-43fb-a8b2-da5aa165d95b",
   "metadata": {},
   "source": [
    "## Studying the cosine similarities\n",
    "\n",
    "The semantic similarities of the pairs of words are studied using cosine similarity. To understand the effect of the alignment, the similarities are compared before and after alignment. The results are visualized as histograms."
   ]
  },
  {
   "cell_type": "code",
   "execution_count": 129,
   "id": "e2c01267-d327-4023-affb-ff9d98e7c478",
   "metadata": {},
   "outputs": [],
   "source": [
    "## Cosine Similarities of word pairs before alignment\n",
    "\n",
    "before_similarities = []\n",
    "\n",
    "for e, h in zip(english_vectors, hindi_vectors):\n",
    "    before_similarities.append(cosine_similarity([e],[h])[0][0])"
   ]
  },
  {
   "cell_type": "code",
   "execution_count": 130,
   "id": "6ad67a3a-456f-440e-9a9b-e46da0691b45",
   "metadata": {},
   "outputs": [],
   "source": [
    "## Cosine similarities of word pairs after alignment\n",
    "\n",
    "after_similarities = []\n",
    "\n",
    "for e, h in zip(transformed_vectors, hindi_vectors):\n",
    "    after_similarities.append(cosine_similarity([e],[h])[0][0])"
   ]
  },
  {
   "cell_type": "code",
   "execution_count": 158,
   "id": "ea7485a7-c122-4402-a02e-c46b56e80264",
   "metadata": {},
   "outputs": [
    {
     "data": {
      "text/plain": [
       "[Text(0.5, 0, 'Cosine Similarity'), Text(0, 0.5, 'Frequency')]"
      ]
     },
     "execution_count": 158,
     "metadata": {},
     "output_type": "execute_result"
    },
    {
     "data": {
      "image/png": "[encoded data removed]",
      "text/plain": [
       "<Figure size 1400x500 with 2 Axes>"
      ]
     },
     "metadata": {},
     "output_type": "display_data"
    }
   ],
   "source": [
    "## Plotting the histograms\n",
    "\n",
    "fig, (ax1, ax2) = plt.subplots(1, 2, figsize=(14, 5))\n",
    "fig.suptitle('Cosine Similarities of Word Embeddings', fontsize = 13)\n",
    "ax1.set_title(\"Before Alignment\")\n",
    "ax1.hist(before_similarities)\n",
    "ax1.set(xlabel = 'Cosine Similarity', ylabel = \"Frequency\")\n",
    "ax2.set_title(\"After Alignment\")\n",
    "ax2.hist(after_similarities)\n",
    "ax2.set(xlabel = 'Cosine Similarity', ylabel = \"Frequency\")"
   ]
  },
  {
   "cell_type": "code",
   "execution_count": 151,
   "id": "85e4c2ad-957b-4039-b13c-c1fb2a5a9bdc",
   "metadata": {},
   "outputs": [
    {
     "name": "stdout",
     "output_type": "stream",
     "text": [
      "After Alignment, the mean cosine similarity of vectors improve from 0.0129 to 0.4812\n"
     ]
    }
   ],
   "source": [
    "print(\"After Alignment, the mean cosine similarity of vectors improve from {:.4f} to {:.4f}\".format(np.mean(before_similarities), np.mean(after_similarities)))"
   ]
  },
  {
   "cell_type": "markdown",
   "id": "05580c2c-b768-4a7e-b870-84f509acbf81",
   "metadata": {},
   "source": [
    "## Ablation Study : Effect of Training set size\n",
    "\n",
    "To understand the perfomance of the number of pairs used in the alignment, datasets of different sizes are used for alignment and the accuracy is compared on the train set and the common test set. There are a total of 30568 pairs in the originally defined training set. Datasets of different sizes, starting from 5% of the training set till the entire set are to be studied."
   ]
  },
  {
   "cell_type": "code",
   "execution_count": 196,
   "id": "d268690e-c136-4b03-a143-2ea058fe7da8",
   "metadata": {},
   "outputs": [],
   "source": [
    "### Function encompassing all the required tasks to implement cross-lingual translation\n",
    "\n",
    "def CrossLangTranslate(train_df, test_df):\n",
    "\n",
    "    english_vectors = [english_embed.get_word_vector(word) for word in train_df[0]]\n",
    "    hindi_vectors = [hindi_embed.get_word_vector(word) for word in train_df[1]]\n",
    "    W, A = orthogonal_procrustes(english_vectors, hindi_vectors)\n",
    "\n",
    "    trainAcc = calAccuracy(train_df, W)\n",
    "    testAcc = calAccuracy(test_df, W)\n",
    "\n",
    "    return (trainAcc, testAcc)"
   ]
  },
  {
   "cell_type": "code",
   "execution_count": 192,
   "id": "83aae53a-0e8f-454e-a7bc-c8d1e49516a3",
   "metadata": {},
   "outputs": [],
   "source": [
    "### The percentage of datasets to be compared are 5, 10, 20, 35, 50, 65, 80, 100\n",
    "\n",
    "n = len(train_df)\n",
    "sizes = [int(n*0.05), int(n*0.1), int(n*0.2), int(n*0.35), int(n*0.5), int(n*0.65), int(n*0.80), int(n)]"
   ]
  },
  {
   "cell_type": "code",
   "execution_count": 202,
   "id": "15491cb6-f256-479b-b06e-dbd1afd0921b",
   "metadata": {},
   "outputs": [],
   "source": [
    "accuracies = []\n",
    "\n",
    "for s in sizes:\n",
    "    accuracies.append(CrossLangTranslate(train_df.loc[:s], test_df))"
   ]
  },
  {
   "cell_type": "code",
   "execution_count": 214,
   "id": "251c9a10-c19f-4216-ab44-8f6597553fed",
   "metadata": {},
   "outputs": [],
   "source": [
    "# joblib.dump(accuracies, 'vars/accuracies')\n",
    "\n",
    "# accuracies = joblib.load('vars/accuracies')"
   ]
  },
  {
   "cell_type": "code",
   "execution_count": 251,
   "id": "4b0cd88f-a028-4588-874b-0ccd85d28ee2",
   "metadata": {},
   "outputs": [
    {
     "name": "stdout",
     "output_type": "stream",
     "text": [
      "(0.3296272073250491, 0.004968619246861925)\n",
      "(0.3169774288518155, 0.004968619246861925)\n",
      "(0.29800457965325483, 0.007191422594142259)\n",
      "(0.26918403589120476, 0.008106694560669456)\n",
      "(0.22787958115183246, 0.007583682008368201)\n",
      "(0.18927762396174175, 0.00653765690376569)\n",
      "(0.15926380368098159, 0.007322175732217573)\n",
      "(0.12733935348776337, 0.008760460251046025)\n"
     ]
    }
   ],
   "source": [
    "train_accuracies = [acc[0] for acc in accuracies]\n",
    "test_accuracies = [acc[1] for acc in accuracies]\n",
    "\n",
    "for ele in accuracies:\n",
    "    print(ele)"
   ]
  },
  {
   "cell_type": "code",
   "execution_count": 243,
   "id": "8e5192a5-9400-4d23-b304-5bea81660313",
   "metadata": {},
   "outputs": [
    {
     "data": {
      "image/png": "[encoded data removed]",
      "text/plain": [
       "<Figure size 700x500 with 1 Axes>"
      ]
     },
     "metadata": {},
     "output_type": "display_data"
    }
   ],
   "source": [
    "x = [0.05, 0.1, 0.2, 0.35, 0.5, 0.65, 0.8, 1]\n",
    "\n",
    "plt.figure(figsize = (7, 5))\n",
    "plt.title('Ablation study with varying the size of training size')\n",
    "plt.grid()\n",
    "plt.scatter(x, train_accuracies, c = 'r')\n",
    "plt.plot(x, train_accuracies, c = 'r', label = 'Train Accuracies')\n",
    "plt.scatter(x, test_accuracies, c = 'b')\n",
    "plt.plot(x, test_accuracies, c = 'b', label = 'Test Accuracies')\n",
    "plt.xlabel('Fraction of overall train set used for training')\n",
    "plt.ylabel('Accuracy')\n",
    "plt.legend()\n",
    "plt.show()"
   ]
  },
  {
   "cell_type": "markdown",
   "id": "92e34812-58bc-4c65-812c-532ff97a118a",
   "metadata": {},
   "source": [
    "From the above plot, we can see that the training accuracy decreases with the increase in the number of word pairs used in alignment. This is because, the increase in the number of words makes it difficult to find the accurate transformation to produce the correct translation. \n",
    "\n",
    "For the test set, the accuracy constantly remains below 1%. But there is a slight improvement in the translation from increasing the number of word pairs from 10% to 20% of the overall training set size. This could be because of the marginal increase in generalizability for unseen words. Overall, the accuracies are not great for previously unseen words."
   ]
  },
  {
   "cell_type": "markdown",
   "id": "e873089b-d48c-4c8d-bd97-021363b6277e",
   "metadata": {},
   "source": [
    "Even though orthogonal Procrustus alignment gives okayish results, this further could be improved by the implementation of neural methods to map the translations."
   ]
  }
 ],
 "metadata": {
  "kernelspec": {
   "display_name": "Python 3 (ipykernel)",
   "language": "python",
   "name": "python3"
  },
  "language_info": {
   "codemirror_mode": {
    "name": "ipython",
    "version": 3
   },
   "file_extension": ".py",
   "mimetype": "text/x-python",
   "name": "python",
   "nbconvert_exporter": "python",
   "pygments_lexer": "ipython3",
   "version": "3.12.3"
  }
 },
 "nbformat": 4,
 "nbformat_minor": 5
}
